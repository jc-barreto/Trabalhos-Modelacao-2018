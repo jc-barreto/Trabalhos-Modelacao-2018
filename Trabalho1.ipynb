{
 "cells": [
  {
   "cell_type": "markdown",
   "metadata": {},
   "source": [
    "# Trabalho 1 - Viga com carga móvel\n"
   ]
  },
  {
   "cell_type": "markdown",
   "metadata": {},
   "source": [
    "Considere uma Viga simplesmente apoiada de massa desprezável com um vão L, sujeita a uma carga móvel de massa **M = P/g** que a atravessa a uma velocidade constante $v_{c}$. O deslocamento vertical da carga móvel (idêntico à deformação transversal da viga no ponto de aplicação da carga) é para o instante **t** definido por:\n",
    "\n",
    "$$ w(t) = \\left [ P-M\\frac{\\mathrm{d^2}w(t) }{\\mathrm{d} t^2} \\right ]* \\frac{v_{c}^{2}*t^{2}*(L-vc*t)^{2}}{3EIL}$$\n",
    "\n",
    "Em que **EI** corresponde à rigidez de flexão da secção transversal da viga.\n",
    "Admita as seguintes condições iniciais:\n",
    "\n",
    "$$w(t_{0})=w_{0}$$\n",
    "\n",
    "$${w}''(t_{0})=\\frac{\\mathrm{d}^{2}w }{\\mathrm{d} t^{2}}(t_{0})=v_{0}$$\n",
    "\n",
    "Escreva e implemente um algoritmo numérico para a resolução numérica da equação diferencial.\n",
    "\n",
    "Considere como dados: **M,P,$v_{c}$,EI,L,$v_{0}$,$t_{0}$ e $t_{f}$**\n",
    "\n",
    "Apresente como resultados, $w(t)$ e ${w}''(t)$ entre $t_{0}$ e $t_{f}$\n",
    "\n",
    "Colocando a equação em ordem a segunda derivada:\n",
    "   \n",
    "    \n"
   ]
  },
  {
   "cell_type": "markdown",
   "metadata": {},
   "source": [
    " $$\\frac{\\mathrm{d}^{2}w }{\\mathrm{d} t^{2}} = \\left [\\frac{P-w*3EIL }{v_{c}^{2} t^2(L-v_{c}t)^2} \\right ]* \\frac{1}{M}$$\n",
    " \n",
    "Que é equivalente a:\n",
    "    \n",
    "     \n",
    "    "
   ]
  },
  {
   "cell_type": "markdown",
   "metadata": {},
   "source": [
    "$$\\frac{\\mathrm{d}^{2}w }{\\mathrm{d} t^{2}} =- w\\frac{3EIL}{v_{c}^{2} t^2(L-v_{c}t)^2}\\frac{1}{M} + \\left [\\frac{P }{v_{c}^{2} t^2(L-v_{c}t)^2} \\right ]* \\frac{1}{M}$$"
   ]
  },
  {
   "cell_type": "markdown",
   "metadata": {},
   "source": [
    "fazendo a substitiuição:\n",
    "$$\\frac{\\mathrm{d}w}{\\mathrm{d} t} = z$$\n",
    "temos que,\n",
    "$$\\frac{\\mathrm{d}^{2}w}{\\mathrm{d} t^{2}} = \\frac{\\mathrm{d}z}{\\mathrm{d} t}$$\n",
    "\n",
    "e logo ficamos com um sistema de duas equações ordinarias de primeira ordem para resolver:\n",
    "\n",
    "\n"
   ]
  },
  {
   "cell_type": "markdown",
   "metadata": {},
   "source": [
    "$$\n",
    "\\left\\{\\begin{matrix}\n",
    "\\frac{\\mathrm{d}w}{\\mathrm{d} t} = z = f(t,w,z) \\\\  \\frac{\\mathrm{d}z}{\\mathrm{d} t} =  \\left [P  - w\\frac{3EIL}{v_{c}^{2} t^2(L-v_{c}t)^2} \\right ]* \\frac{1}{M} = g(t,w,z)\n",
    "\\end{matrix}\\right.\n",
    "$$"
   ]
  },
  {
   "cell_type": "markdown",
   "metadata": {},
   "source": [
    "Para resolver este sistema, podemos utilizar o método de Runge-Kutta de 2ª ordem.\n",
    "Os métodos de Runge-Kutta são caracterizados por três propriedades:\n",
    "\n",
    "1. são de passo um;\n",
    "2. não exigem o cálculo de qualquer derivada de f(x,y); pagam, por isso, o preço de calcular f(x,y) em vários pontos;\n",
    "3. após expandir f(x,y) por Taylor para função de duas variáveis  em torno de ($x_n,y_n$) e agrupar os termos semelhantes, sua expressão coincide com a do método de Taylor da mesma ordem.\n",
    "\n",
    "\n",
    "No método Runge-Kutta de 2ª Ordem, também conhecido como método de Heun's a equação é:\n",
    "$$y_{i+1}=y_{i}+\\frac{h}{2}(k_{1}+k_{2})$$\n",
    "com,\n",
    "$$k_{1}=f(t_{i},y_{i})$$\n",
    "$$k_{2}=f(t_{i}+h,y_{i}+hk_{1})$$\n"
   ]
  },
  {
   "cell_type": "code",
   "execution_count": 8,
   "metadata": {
    "scrolled": false
   },
   "outputs": [
    {
     "name": "stdout",
     "output_type": "stream",
     "text": [
      "Informe o valor da carga móvel aplicada, P,  em Newtons: 100\n",
      "Informe o Módulo de Elasticidade, E, em Mpa: 200\n",
      "Informe o momento de inércia, I, em mm^4: 40000\n",
      "Informe o comprimento da viga, L, em metros: 5\n",
      "Indique a velocidade constante com que a carga se desloca, vc, em metros por segundos: 5\n",
      "Indique o primeiro instante, t0, em segundos: 0\n",
      "Indique o instante final, tf, em segundos: 12\n",
      "Indique o deslocamento inicial, W(t0), em metros: 0\n",
      "Indique a velocidade inicial, v(t0), em metros por segundos: 0\n",
      "Indique o valor do passo: 0.1\n"
     ]
    }
   ],
   "source": [
    "import matplotlib.pyplot as plt\n",
    "import numpy as np\n",
    "%matplotlib inline\n",
    "# Definir dados iniciais\n",
    "\n",
    "p = float(input('Informe o valor da carga móvel aplicada, P,  em Newtons: '))\n",
    "g = 9.91  #m/s2\n",
    "m = p/g  #N\n",
    "e = float(input('Informe o Módulo de Elasticidade, E, em Mpa: '))\n",
    "i = float(input('Informe o momento de inércia, I, em mm^4: '))\n",
    "l = float(input('Informe o comprimento da viga, L, em metros: '))\n",
    "vc = float(input('Indique a velocidade constante com que a carga se desloca, vc, em metros por segundos: '))\n",
    "t0 = float(input('Indique o primeiro instante, t0, em segundos: '))\n",
    "tf = float(input('Indique o instante final, tf, em segundos: '))\n",
    "\n",
    "#Definir condições iniciais\n",
    "\n",
    "w0 = float(input('Indique o deslocamento inicial, W(t0), em metros: '))\n",
    "v0 = float(input('Indique a velocidade inicial, v(t0), em metros por segundos: '))\n",
    "step = float(input('Indique o valor do passo: '))\n",
    "\n",
    "#t=np.arange(t0,step,tf)\n",
    "nstep = int((tf-t0)/step)\n",
    "\n",
    "\n",
    "        "
   ]
  },
  {
   "cell_type": "code",
   "execution_count": 9,
   "metadata": {},
   "outputs": [],
   "source": [
    "t = np.linspace(t0, tf, nstep)\n",
    "n = t.shape[0]\n",
    "\n"
   ]
  },
  {
   "cell_type": "code",
   "execution_count": 12,
   "metadata": {},
   "outputs": [],
   "source": [
    "w = np.zeros([nstep,1])\n",
    "w_der = np.zeros([nstep,1])\n",
    "\n",
    "    "
   ]
  },
  {
   "cell_type": "code",
   "execution_count": 13,
   "metadata": {},
   "outputs": [],
   "source": [
    "w[0]=w0\n",
    "w_der[0]=v0\n",
    "# nao entrei com a derivada em lado nenhum,\n",
    "# nao estou a resolver bem a equação"
   ]
  },
  {
   "cell_type": "code",
   "execution_count": 14,
   "metadata": {},
   "outputs": [],
   "source": [
    "for i in range(1,nstep-1):\n",
    "    k1 = ((p-w[i]*3*e*i*l)/(vc**2*t[i]**2*(l-vc*t[i])**2))*1/m\n",
    "    tnew = t[i]+step\n",
    "    wnew = w[i]+step*k1\n",
    "    k2 = ((p-wnew*3*e*i*l)/(vc**2*tnew**2*(l-vc*tnew)**2))*1/m\n",
    "    w[i+1] = w[i] + step/2*(k1+k2)\n",
    "    \n",
    "    "
   ]
  },
  {
   "cell_type": "code",
   "execution_count": 15,
   "metadata": {},
   "outputs": [
    {
     "data": {
      "text/plain": [
       "[<matplotlib.lines.Line2D at 0x15b86427dd8>]"
      ]
     },
     "execution_count": 15,
     "metadata": {},
     "output_type": "execute_result"
    },
    {
     "data": {
      "image/png": "[encoded data removed]",
      "text/plain": [
       "<Figure size 432x288 with 1 Axes>"
      ]
     },
     "metadata": {
      "needs_background": "light"
     },
     "output_type": "display_data"
    }
   ],
   "source": [
    "plt.plot(w,t)"
   ]
  },
  {
   "cell_type": "code",
   "execution_count": null,
   "metadata": {},
   "outputs": [],
   "source": []
  },
  {
   "cell_type": "code",
   "execution_count": null,
   "metadata": {},
   "outputs": [],
   "source": []
  },
  {
   "cell_type": "code",
   "execution_count": null,
   "metadata": {},
   "outputs": [],
   "source": []
  }
 ],
 "metadata": {
  "kernelspec": {
   "display_name": "Python 3",
   "language": "python",
   "name": "python3"
  },
  "language_info": {
   "codemirror_mode": {
    "name": "ipython",
    "version": 3
   },
   "file_extension": ".py",
   "mimetype": "text/x-python",
   "name": "python",
   "nbconvert_exporter": "python",
   "pygments_lexer": "ipython3",
   "version": "3.7.0"
  }
 },
 "nbformat": 4,
 "nbformat_minor": 2
}
