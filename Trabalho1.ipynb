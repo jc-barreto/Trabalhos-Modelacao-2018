{
 "cells": [
  {
   "cell_type": "markdown",
   "metadata": {},
   "source": [
    "# Trabalho 1 - Viga com carga móvel\n"
   ]
  },
  {
   "cell_type": "markdown",
   "metadata": {},
   "source": [
    "Considere uma Viga simplesmente apoiada de massa desprezável com um vão L, sujeita a uma carga móvel de massa **M = P/g** que a atravessa a uma velocidade constante $v_{c}$. O deslocamento vertical da carga móvel (idêntico à deformação transversal da viga no ponto de aplicação da carga) é para o instante **t** definido por:\n",
    "\n",
    "$$ w(t) = \\left [ P-M\\frac{\\mathrm{d^2}w(t) }{\\mathrm{d} t^2} \\right ]* \\frac{v_{c}^{2}*t^{2}*(L-vc*t)^{2}}{3EIL}$$\n",
    "\n",
    "Em que **EI** corresponde à rigidez de flexão da secção transversal da viga.\n",
    "Admita as seguintes condições iniciais:\n",
    "\n",
    "$$w(t_{0})=w_{0}$$\n",
    "\n",
    "$${w}''(t_{0})=\\frac{\\mathrm{d}^{2}w }{\\mathrm{d} t^{2}}(t_{0})=v_{0}$$\n",
    "\n",
    "Escreva e implemente um algoritmo numérico para a resolução numérica da equação diferencial.\n",
    "\n",
    "Considere como dados: **M,P,$v_{c}$,EI,L,$v_{0}$,$t_{0}$ e $t_{f}$**\n",
    "\n",
    "Apresente como resultados, $w(t)$ e ${w}''(t)$ entre $t_{0}$ e $t_{f}$\n",
    "\n",
    "Colocando a equação em ordem a segunda derivada:\n",
    "   \n",
    "    \n"
   ]
  },
  {
   "cell_type": "markdown",
   "metadata": {},
   "source": [
    " $$\\frac{\\mathrm{d}^{2}w }{\\mathrm{d} t^{2}} = \\left [\\frac{P-w*3EIL }{v_{c}^{2} t^2(L-v_{c}t)^2} \\right ]* \\frac{1}{M}$$\n",
    " \n",
    "Que é equivalente a:\n",
    "    \n",
    "     \n",
    "    "
   ]
  },
  {
   "cell_type": "markdown",
   "metadata": {},
   "source": [
    "$$\\frac{\\mathrm{d}^{2}w }{\\mathrm{d} t^{2}} =- w\\frac{3EIL}{v_{c}^{2} t^2(L-v_{c}t)^2}\\frac{1}{M} + \\left [\\frac{P }{v_{c}^{2} t^2(L-v_{c}t)^2} \\right ]* \\frac{1}{M}$$"
   ]
  },
  {
   "cell_type": "markdown",
   "metadata": {},
   "source": [
    "fazendo a substitiuição:\n",
    "$$\\frac{\\mathrm{d}w}{\\mathrm{d} t} = z$$\n",
    "temos que,\n",
    "$$\\frac{\\mathrm{d}^{2}w}{\\mathrm{d} t^{2}} = \\frac{\\mathrm{d}z}{\\mathrm{d} t}$$\n",
    "\n",
    "e logo ficamos com um sistema de duas equações ordinarias de primeira ordem para resolver:\n",
    "\n",
    "\n"
   ]
  },
  {
   "cell_type": "markdown",
   "metadata": {},
   "source": [
    "$$\n",
    "\\left\\{\\begin{matrix}\n",
    "\\frac{\\mathrm{d}w}{\\mathrm{d} t} = z = f(t,w,z) \\\\  \\frac{\\mathrm{d}z}{\\mathrm{d} t} =  \\left [P  - w\\frac{3EIL}{v_{c}^{2} t^2(L-v_{c}t)^2} \\right ]* \\frac{1}{M} = g(t,w,z)\n",
    "\\end{matrix}\\right.\n",
    "$$"
   ]
  },
  {
   "cell_type": "markdown",
   "metadata": {},
   "source": [
    "Para resolver este sistema, podemos utilizar o método de Runge-Kutta de 2ª ordem.\n",
    "Os métodos de Runge-Kutta são caracterizados por três propriedades:\n",
    "\n",
    "1. são de passo um;\n",
    "2. não exigem o cálculo de qualquer derivada de f(x,y); pagam, por isso, o preço de calcular f(x,y) em vários pontos;\n",
    "3. após expandir f(x,y) por Taylor para função de duas variáveis  em torno de ($x_n,y_n$) e agrupar os termos semelhantes, sua expressão coincide com a do método de Taylor da mesma ordem.\n",
    "\n",
    "\n",
    "No método Runge-Kutta de 2ª Ordem, também conhecido como método de Heun's a equação é:\n",
    "$$y_{i+1}=y_{i}+\\frac{h}{2}(k_{1}+k_{2})$$\n",
    "com,\n",
    "$$k_{1}=f(t_{i},y_{i})$$\n",
    "$$k_{2}=f(t_{i}+h,y_{i}+hk_{1})$$\n",
    "equivalente ao sistema:"
   ]
  },
  {
   "cell_type": "markdown",
   "metadata": {},
   "source": [
    "$$\n",
    "\\begin{bmatrix}\n",
    "w_{i+1}\\\\ z_{i+1}\n",
    "\n",
    "\\end{bmatrix} = \\begin{bmatrix}\n",
    "w_{i}\\\\ z_{i}\n",
    "\n",
    "\\end{bmatrix} + \\frac{h}{2} \\begin{pmatrix}\n",
    "\\begin{bmatrix}\n",
    "k_{1,1} = f(t,w,z )\\\\ k_{1,2} = g(t,w,z)\n",
    "\n",
    "\\end{bmatrix} + \\begin{bmatrix}\n",
    "k_{2,1} = f(t_{i+h},w_{i}+h*k_{1},z )\\\\ k_{2,2} = g(t_{i+h},w_{i}+h*k_{1},z )\n",
    "\n",
    "\\end{bmatrix}\n",
    "\\end{pmatrix}\n",
    "$$"
   ]
  },
  {
   "cell_type": "markdown",
   "metadata": {},
   "source": [
    "<img src=\"eq1.GIF\">"
   ]
  },
  {
   "cell_type": "code",
   "execution_count": 2,
   "metadata": {
    "scrolled": false
   },
   "outputs": [],
   "source": [
    "import matplotlib.pyplot as plt\n",
    "import numpy as np\n",
    "%matplotlib inline\n",
    "# Definir dados iniciais\n",
    "\n",
    "p = 1000 #Informe o valor da carga móvel aplicada, P,  em Newtons: \n",
    "g = 9.91  #m/s2\n",
    "m = p/g  #N\n",
    "e = 30000000000 #Informe o Módulo de Elasticidade, E, em Pa: \n",
    "i = 0.021 #Informe o momento de inércia, I, em m^4: \n",
    "l = 5  #Informe o comprimento da viga, L, em metros: \n",
    "vc = 20 #Indique a velocidade constante com que a carga se desloca, vc, em metros por segundos: \n",
    "t0 = 0 #Indique o primeiro instante, t0, em segundos: \n",
    "tf = 12  #Indique o instante final, tf, em segundos: \n",
    "\n",
    "#Definir condições iniciais\n",
    "\n",
    "w0 = 0 #Indique o deslocamento inicial, W(t0), em metros: \n",
    "v0 = 0 #Indique a velocidade inicial, v(t0), em metros por segundos: \n",
    "step = 0.01 #Indique o valor do passo: \n",
    "\n",
    "#t=np.arange(t0,step,tf)\n",
    "\n",
    "nstep = int((tf-t0)/step) # numero de passos\n",
    "t = np.linspace(t0, tf, nstep) # tempos\n",
    "w = np.zeros([nstep,1]) # inicializar vetor de posições\n",
    "z = np.zeros([nstep,1])  # inicializar vetor de velocidades     \n",
    "\n",
    "# definir no vetor as condições iniciais\n",
    "\n",
    "w[0]=w0\n",
    "z[0]=v0"
   ]
  },
  {
   "cell_type": "code",
   "execution_count": 3,
   "metadata": {},
   "outputs": [],
   "source": [
    "k1 = [0, 0]\n",
    "k2 = [0, 0]\n"
   ]
  },
  {
   "cell_type": "code",
   "execution_count": 4,
   "metadata": {},
   "outputs": [
    {
     "name": "stderr",
     "output_type": "stream",
     "text": [
      "C:\\Program Files (x86)\\Python\\lib\\site-packages\\ipykernel_launcher.py:9: RuntimeWarning: divide by zero encountered in true_divide\n",
      "  if __name__ == '__main__':\n"
     ]
    },
    {
     "ename": "TypeError",
     "evalue": "can't multiply sequence by non-int of type 'float'",
     "output_type": "error",
     "traceback": [
      "\u001b[1;31m---------------------------------------------------------------------------\u001b[0m",
      "\u001b[1;31mTypeError\u001b[0m                                 Traceback (most recent call last)",
      "\u001b[1;32m<ipython-input-4-981152c5aece>\u001b[0m in \u001b[0;36m<module>\u001b[1;34m()\u001b[0m\n\u001b[0;32m      9\u001b[0m     \u001b[0mk1\u001b[0m\u001b[1;33m[\u001b[0m\u001b[1;36m1\u001b[0m\u001b[1;33m]\u001b[0m \u001b[1;33m=\u001b[0m \u001b[1;33m(\u001b[0m\u001b[1;33m(\u001b[0m\u001b[0mp\u001b[0m\u001b[1;33m-\u001b[0m\u001b[0mw\u001b[0m\u001b[1;33m[\u001b[0m\u001b[0mi\u001b[0m\u001b[1;33m]\u001b[0m\u001b[1;33m*\u001b[0m\u001b[1;36m3\u001b[0m\u001b[1;33m*\u001b[0m\u001b[0me\u001b[0m\u001b[1;33m*\u001b[0m\u001b[0mi\u001b[0m\u001b[1;33m*\u001b[0m\u001b[0ml\u001b[0m\u001b[1;33m)\u001b[0m\u001b[1;33m/\u001b[0m\u001b[1;33m(\u001b[0m\u001b[0mvc\u001b[0m\u001b[1;33m**\u001b[0m\u001b[1;36m2\u001b[0m\u001b[1;33m*\u001b[0m\u001b[0mt\u001b[0m\u001b[1;33m[\u001b[0m\u001b[0mi\u001b[0m\u001b[1;33m]\u001b[0m\u001b[1;33m**\u001b[0m\u001b[1;36m2\u001b[0m\u001b[1;33m*\u001b[0m\u001b[1;33m(\u001b[0m\u001b[0ml\u001b[0m\u001b[1;33m-\u001b[0m\u001b[0mvc\u001b[0m\u001b[1;33m*\u001b[0m\u001b[0mt\u001b[0m\u001b[1;33m[\u001b[0m\u001b[0mi\u001b[0m\u001b[1;33m]\u001b[0m\u001b[1;33m)\u001b[0m\u001b[1;33m**\u001b[0m\u001b[1;36m2\u001b[0m\u001b[1;33m)\u001b[0m\u001b[1;33m)\u001b[0m\u001b[1;33m*\u001b[0m\u001b[1;36m1\u001b[0m\u001b[1;33m/\u001b[0m\u001b[0mm\u001b[0m\u001b[1;33m\u001b[0m\u001b[0m\n\u001b[0;32m     10\u001b[0m     \u001b[0mtnew\u001b[0m \u001b[1;33m=\u001b[0m \u001b[0mt\u001b[0m\u001b[1;33m[\u001b[0m\u001b[0mi\u001b[0m\u001b[1;33m]\u001b[0m\u001b[1;33m+\u001b[0m\u001b[0mstep\u001b[0m\u001b[1;33m\u001b[0m\u001b[0m\n\u001b[1;32m---> 11\u001b[1;33m     \u001b[0mwnew\u001b[0m \u001b[1;33m=\u001b[0m \u001b[0mw\u001b[0m\u001b[1;33m[\u001b[0m\u001b[0mi\u001b[0m\u001b[1;33m]\u001b[0m\u001b[1;33m+\u001b[0m\u001b[0mstep\u001b[0m\u001b[1;33m*\u001b[0m\u001b[0mk1\u001b[0m\u001b[1;33m\u001b[0m\u001b[0m\n\u001b[0m\u001b[0;32m     12\u001b[0m     \u001b[0mk2\u001b[0m\u001b[1;33m[\u001b[0m\u001b[1;36m0\u001b[0m\u001b[1;33m]\u001b[0m \u001b[1;33m=\u001b[0m \u001b[0mz\u001b[0m\u001b[1;33m[\u001b[0m\u001b[0mi\u001b[0m\u001b[1;33m]\u001b[0m  \u001b[1;31m# f(t,w,z) = z = w' é sempre o mesmo em todas as iterações?\u001b[0m\u001b[1;33m\u001b[0m\u001b[0m\n\u001b[0;32m     13\u001b[0m     \u001b[0mk2\u001b[0m\u001b[1;33m[\u001b[0m\u001b[1;36m1\u001b[0m\u001b[1;33m]\u001b[0m \u001b[1;33m=\u001b[0m \u001b[1;33m(\u001b[0m\u001b[1;33m(\u001b[0m\u001b[0mp\u001b[0m\u001b[1;33m-\u001b[0m\u001b[0mwnew\u001b[0m\u001b[1;33m*\u001b[0m\u001b[1;36m3\u001b[0m\u001b[1;33m*\u001b[0m\u001b[0me\u001b[0m\u001b[1;33m*\u001b[0m\u001b[0mi\u001b[0m\u001b[1;33m*\u001b[0m\u001b[0ml\u001b[0m\u001b[1;33m)\u001b[0m\u001b[1;33m/\u001b[0m\u001b[1;33m(\u001b[0m\u001b[0mvc\u001b[0m\u001b[1;33m**\u001b[0m\u001b[1;36m2\u001b[0m\u001b[1;33m*\u001b[0m\u001b[0mtnew\u001b[0m\u001b[1;33m)\u001b[0m\u001b[1;33m**\u001b[0m\u001b[1;36m2\u001b[0m\u001b[1;33m*\u001b[0m\u001b[1;33m(\u001b[0m\u001b[0ml\u001b[0m\u001b[1;33m-\u001b[0m\u001b[0mvc\u001b[0m\u001b[1;33m*\u001b[0m\u001b[0mtnew\u001b[0m\u001b[1;33m)\u001b[0m\u001b[1;33m**\u001b[0m\u001b[1;36m2\u001b[0m\u001b[1;33m)\u001b[0m\u001b[1;33m*\u001b[0m\u001b[1;36m1\u001b[0m\u001b[1;33m/\u001b[0m\u001b[0mm\u001b[0m\u001b[1;33m\u001b[0m\u001b[0m\n",
      "\u001b[1;31mTypeError\u001b[0m: can't multiply sequence by non-int of type 'float'"
     ]
    }
   ],
   "source": [
    "for i in range(0,nstep-1):\n",
    "  \n",
    "           # Formulação \n",
    "    # k1[1] = f(t_i,w_i,z) ; k1[2] = g(t_i,w_i,z)\n",
    "    # k2[1] = f(t_i+h,w_i+h*k1,z) ; k[2] = f(t_i+h,w_i+h*k1,z)\n",
    "    \n",
    "    \n",
    "    k1[0] = z[i]\n",
    "    k1[1] = ((p-w[i]*3*e*i*l)/(vc**2*t[i]**2*(l-vc*t[i])**2))*1/m\n",
    "    tnew = t[i]+step\n",
    "    wnew = w[i]+step*k1\n",
    "    k2[0] = z[i]  # f(t,w,z) = z = w' é sempre o mesmo em todas as iterações?\n",
    "    k2[1] = ((p-wnew*3*e*i*l)/(vc**2*tnew)**2*(l-vc*tnew)**2)*1/m\n",
    "    w[i+1] = w[i] + step/2*(k1+k2)\n",
    "    z[i+1] = (w[i+1]-w[i])/step\n",
    "    \n",
    "    plt.plot(w,t)\n",
    "\n",
    "    \n",
    "    "
   ]
  },
  {
   "cell_type": "code",
   "execution_count": null,
   "metadata": {},
   "outputs": [],
   "source": []
  }
 ],
 "metadata": {
  "kernelspec": {
   "display_name": "Python 3",
   "language": "python",
   "name": "python3"
  },
  "language_info": {
   "codemirror_mode": {
    "name": "ipython",
    "version": 3
   },
   "file_extension": ".py",
   "mimetype": "text/x-python",
   "name": "python",
   "nbconvert_exporter": "python",
   "pygments_lexer": "ipython3",
   "version": "3.7.0"
  }
 },
 "nbformat": 4,
 "nbformat_minor": 2
}
