{
 "cells": [
  {
   "cell_type": "markdown",
   "metadata": {},
   "source": [
    "# Trabalho 2 -Analise Modal Estrutra\n"
   ]
  },
  {
   "cell_type": "markdown",
   "metadata": {},
   "source": [
    "Considere o pórtico representado na figura, adimitamos apenas a massa dos pisos(**M1** a **M3**) e a rigidez de pilares ao nível de cada piso (**K2** a **K3**)\n",
    "\n"
   ]
  },
  {
   "cell_type": "markdown",
   "metadata": {},
   "source": [
    "<img src=\"portico.jpg\" alt=\"portico\" width=\"200\"/>"
   ]
  },
  {
   "cell_type": "markdown",
   "metadata": {},
   "source": [
    "1. Escreva as equações diferenciais de equilíbrio em coordenadas modais e represente graficamente os respetivos modos de vibrações. (ex. $M_{1} = 35t$;  $M_{2} = 30t$; $M_{3} = 20t$; $K_{1} = 18 \\times 10^{3} kN/m $; $K_{2} = 20 \\times 10^{3} kN/m$  e $K_{3} = 22 \\times 10^{3} kN/m$\n",
    "2. Escreva e implemente um algoritmo numérico que permita determinar entre $t_0$ e $t_f$ os deslocamentos e acelerações de cada piso ($y_i(t)$ e $ \\ddot{y}_{i}(t)$). Considere como condições iniciais:\n",
    "$$y_{1}(t_{0}) = \\bar{y}_{1}$$\n",
    "$$y_{2}(t_{0}) = \\bar{y}_{2}$$\n",
    "$$y_{3}(t_{0}) = \\bar{y}_{3}$$\n",
    "$$\\dot{y}_{1}(t_{0}) = 0$$\n",
    "$$\\dot{y}_{2}(t_{0}) = 0$$\n",
    "$$\\dot{y}_{3}(t_{0}) = 0$$"
   ]
  },
  {
   "cell_type": "markdown",
   "metadata": {},
   "source": [
    "1. a) As equações em coordenadas modais são:"
   ]
  },
  {
   "cell_type": "markdown",
   "metadata": {},
   "source": [
    "1. b) Os modos de vibrações são:\n",
    "<img src=\"modos.jpg\" alt=\"modos\" width=\"500\"/>"
   ]
  },
  {
   "cell_type": "code",
   "execution_count": 45,
   "metadata": {},
   "outputs": [
    {
     "data": {
      "text/plain": [
       "array([[ 41603., -19382.,      0.],\n",
       "       [     0.,  29186.,  -9804.],\n",
       "       [     0.,      0.,   9804.]])"
      ]
     },
     "execution_count": 45,
     "metadata": {},
     "output_type": "execute_result"
    }
   ],
   "source": [
    "import matplotlib.pyplot as plt\n",
    "import numpy as np\n",
    "%matplotlib inline\n",
    "# Definição dos parâmetros:\n",
    "m1 = 64000 # massa do 1º piso em Kg\n",
    "m2 = 64000 # massa do 2º piso em Kg\n",
    "m3 = 48000 # massa do 2º piso em Kg\n",
    "k1 = 22221 # Rigidez do pilar ao nível do 1º piso em kN/m2\n",
    "k2 = 19382 # Rigidez do pilar ao nível do 2º piso em kN/m2\n",
    "k3 = 9804 # Rigidez do pilar ao nível do 3º piso em kN/m2\n",
    "\n",
    "m = [m1, m2, m3]\n",
    "m = np.diag(m)\n",
    "k = np.array([[k1+k2,-k2,0], [0,k2+k3,-k3], [0,0,k3]], dtype=np.float)\n",
    "k"
   ]
  },
  {
   "cell_type": "code",
   "execution_count": 44,
   "metadata": {},
   "outputs": [
    {
     "data": {
      "text/plain": [
       "48000"
      ]
     },
     "execution_count": 44,
     "metadata": {},
     "output_type": "execute_result"
    }
   ],
   "source": [
    "m[2,2]"
   ]
  },
  {
   "cell_type": "code",
   "execution_count": 11,
   "metadata": {},
   "outputs": [
    {
     "data": {
      "text/plain": [
       "array([0, 4, 8])"
      ]
     },
     "execution_count": 11,
     "metadata": {},
     "output_type": "execute_result"
    }
   ],
   "source": [
    "d = np.diag(x)\n",
    "\n",
    "d"
   ]
  },
  {
   "cell_type": "code",
   "execution_count": 12,
   "metadata": {},
   "outputs": [
    {
     "data": {
      "text/plain": [
       "array([[0, 0, 0],\n",
       "       [0, 4, 0],\n",
       "       [0, 0, 8]])"
      ]
     },
     "execution_count": 12,
     "metadata": {},
     "output_type": "execute_result"
    }
   ],
   "source": [
    "novad=np.diag(d)\n",
    "novad"
   ]
  },
  {
   "cell_type": "code",
   "execution_count": null,
   "metadata": {},
   "outputs": [],
   "source": []
  }
 ],
 "metadata": {
  "kernelspec": {
   "display_name": "Python 3",
   "language": "python",
   "name": "python3"
  },
  "language_info": {
   "codemirror_mode": {
    "name": "ipython",
    "version": 3
   },
   "file_extension": ".py",
   "mimetype": "text/x-python",
   "name": "python",
   "nbconvert_exporter": "python",
   "pygments_lexer": "ipython3",
   "version": "3.7.0"
  }
 },
 "nbformat": 4,
 "nbformat_minor": 2
}
