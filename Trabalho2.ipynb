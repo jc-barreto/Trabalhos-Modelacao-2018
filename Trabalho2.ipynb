{
 "cells": [
  {
   "cell_type": "markdown",
   "metadata": {},
   "source": [
    "# Trabalho 2 -Analise Modal Estrutra\n"
   ]
  },
  {
   "cell_type": "markdown",
   "metadata": {},
   "source": [
    "Considere o pórtico representado na figura, adimitamos apenas a massa dos pisos(**M1** a **M3**) e a rigidez de pilares ao nível de cada piso (**K2** a **K3**)\n",
    "\n"
   ]
  },
  {
   "cell_type": "markdown",
   "metadata": {},
   "source": [
    "<img src=\"portico.jpg\" alt=\"portico\" width=\"200\"/>"
   ]
  },
  {
   "cell_type": "markdown",
   "metadata": {},
   "source": [
    "1. Escreva as equações diferenciais de equilíbrio em coordenadas modais e represente graficamente os respetivos modos de vibrações. (ex. $M_{1} = 35t$;  $M_{2} = 30t$; $M_{3} = 20t$; $K_{1} = 18 \\times 10^{3} kN/m $; $K_{2} = 20 \\times 10^{3} kN/m$  e $K_{3} = 22 \\times 10^{3} kN/m$\n",
    "2. Escreva e implemente um algoritmo numérico que permita determinar entre $t_0$ e $t_f$ os deslocamentos e acelerações de cada piso ($y_i(t)$ e $ \\ddot{y}_{i}(t)$). Considere como condições iniciais:\n",
    "$$y_{1}(t_{0}) = \\bar{y}_{1}$$\n",
    "$$y_{2}(t_{0}) = \\bar{y}_{2}$$\n",
    "$$y_{3}(t_{0}) = \\bar{y}_{3}$$\n",
    "$$\\dot{y}_{1}(t_{0}) = 0$$\n",
    "$$\\dot{y}_{2}(t_{0}) = 0$$\n",
    "$$\\dot{y}_{3}(t_{0}) = 0$$"
   ]
  },
  {
   "cell_type": "markdown",
   "metadata": {},
   "source": [
    "1. a) As equações em coordenadas modais são:"
   ]
  },
  {
   "cell_type": "markdown",
   "metadata": {},
   "source": [
    "1. b) Os modos de vibrações são:\n",
    "<img src=\"modos.jpg\" alt=\"modos\" width=\"500\"/>"
   ]
  },
  {
   "cell_type": "code",
   "execution_count": 1,
   "metadata": {},
   "outputs": [
    {
     "name": "stdout",
     "output_type": "stream",
     "text": [
      "[[35000     0     0]\n",
      " [    0 30000     0]\n",
      " [    0     0 20000]]\n",
      "[[ 76000. -40000.      0.]\n",
      " [-40000.  84000. -44000.]\n",
      " [     0. -44000.  44000.]]\n",
      "[[-2.30748612e-03  4.39992917e-03  1.97168956e-03]\n",
      " [-3.78935860e-03 -3.53735136e-05 -4.35578276e-03]\n",
      " [-4.37530351e-03 -4.01487408e-03  3.83894586e-03]]\n",
      "[0.29462614 2.18061664 4.69618578]\n"
     ]
    }
   ],
   "source": [
    "import matplotlib.pyplot as plt\n",
    "import numpy as np\n",
    "from scipy.linalg import eigh\n",
    "\n",
    "\n",
    "%matplotlib inline\n",
    "# Definição dos parâmetros:\n",
    "m1 = 35000 # massa do 1º piso em Kg\n",
    "m2 = 30000 # massa do 2º piso em Kg\n",
    "m3 = 20000 # massa do 2º piso em Kg\n",
    "k1 = 2*18000 # Rigidez do pilar ao nível do 1º piso em kN/m2\n",
    "k2 = 2*20000 # Rigidez do pilar ao nível do 2º piso em kN/m2\n",
    "k3 = 2*22000 # Rigidez do pilar ao nível do 3º piso em kN/m2\n",
    "y = np.array([0.02, 0.01, 0.03]) # condições iniciais\n",
    "y_deriv = np.array([0.01, 0.02, 0.03]) # condições inicias\n",
    "\n",
    "\n",
    "\n",
    "m = [m1, m2, m3]\n",
    "m = np.diag(m)\n",
    "k = np.array([[k1+k2,-k2,0], [-k2,k2+k3,-k3], [0,-k3,k3]], dtype=np.float)\n",
    "eigvals, eigvecs = eigh(k, m, eigvals_only=False)\n",
    "print(m)\n",
    "print(k)\n",
    "print(eigvecs)\n",
    "print(eigvals)\n",
    "\n"
   ]
  },
  {
   "cell_type": "code",
   "execution_count": null,
   "metadata": {},
   "outputs": [],
   "source": [
    "y"
   ]
  },
  {
   "cell_type": "code",
   "execution_count": 13,
   "metadata": {},
   "outputs": [
    {
     "name": "stdout",
     "output_type": "stream",
     "text": [
      "[-2.63191373e+15 -2.93433160e+16  1.50778188e+15]\n"
     ]
    }
   ],
   "source": [
    "# definir os parametros em coord. modais\n",
    "m_generalizada = np.matmul(eigvecs.T,m)\n",
    "m_generalizada = np.matmul(m_generalizada,eigvecs)\n",
    "k_generalizada = np.matmul(eigvecs.T,k)\n",
    "k_generalizada = np.matmul(k_generalizada,eigvecs)\n",
    "factor_conv = (np.matmul(eigvecs.T,m))/m_generalizada\n",
    "y_coord_modal = np.matmul(factor_conv,y.T)\n",
    "print(y_coord_modal)"
   ]
  },
  {
   "cell_type": "code",
   "execution_count": null,
   "metadata": {},
   "outputs": [],
   "source": []
  }
 ],
 "metadata": {
  "kernelspec": {
   "display_name": "Python 3",
   "language": "python",
   "name": "python3"
  },
  "language_info": {
   "codemirror_mode": {
    "name": "ipython",
    "version": 3
   },
   "file_extension": ".py",
   "mimetype": "text/x-python",
   "name": "python",
   "nbconvert_exporter": "python",
   "pygments_lexer": "ipython3",
   "version": "3.7.0"
  }
 },
 "nbformat": 4,
 "nbformat_minor": 2
}
