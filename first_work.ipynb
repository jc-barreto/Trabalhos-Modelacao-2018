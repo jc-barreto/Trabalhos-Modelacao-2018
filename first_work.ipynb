{
 "cells": [
  {
   "cell_type": "markdown",
   "metadata": {},
   "source": [
    "# Trabalho 1 - Viga com carga móvel\n"
   ]
  },
  {
   "cell_type": "markdown",
   "metadata": {},
   "source": [
    "Considere uma Viga simplesmente apoiada de massa desprezável com um vão L, sujeita a uma carga móvel de massa **M = P/g** que a atravessa a uma velocidade constante $v_{c}$. O deslocamento vertical da carga móvel (idêntico à deformação transversal da viga no ponto de aplicação da carga) é para o instante **t** definido por:\n",
    "\n",
    "$$ w(t) = \\left [ P-M\\frac{\\mathrm{d^2}w(t) }{\\mathrm{d} t^2} \\right ]* \\frac{v_{c}^{2}*t^{2}*(L-vc*t)^{2}}{3EIL}$$\n",
    "\n",
    "Em que **EI** corresponde à rigidez de flexão da secção transversal da viga.\n",
    "Admita as seguintes condições iniciais:\n",
    "\n",
    "$$w(t_{0})=w_{0}$$\n",
    "\n",
    "$${w}''(t_{0})=\\frac{\\mathrm{d}^{2}w }{\\mathrm{d} t^{2}}(t_{0})=v_{0}$$\n",
    "\n",
    "Escreva e implemente um algoritmo numérico para a resolução numérica da equação diferencial.\n",
    "\n",
    "Considere como dados: **M,P,$v_{c}$,EI,L,$v_{0}$,$t_{0}$ e $t_{f}$**\n",
    "\n",
    "Apresente como resultados, $w(t)$ e ${w}''(t)$ entre $t_{0}$ e $t_{f}$\n",
    "\n",
    "Colocando a equação em ordem a segunda derivada:\n",
    "   \n",
    "    \n"
   ]
  },
  {
   "cell_type": "markdown",
   "metadata": {},
   "source": [
    " $$\\frac{\\mathrm{d}^{2}w }{\\mathrm{d} t^{2}} = \\left [\\frac{P-w*3EIL }{v_{c}^{2} t^2(L-v_{c}t)^2} \\right ]* \\frac{1}{M}$$\n",
    " \n",
    "Que é equivalente a:\n",
    "    \n",
    "     \n",
    "    "
   ]
  },
  {
   "cell_type": "markdown",
   "metadata": {},
   "source": [
    "$$\\frac{\\mathrm{d}^{2}w }{\\mathrm{d} t^{2}} =- w\\frac{3EIL}{v_{c}^{2} t^2(L-v_{c}t)^2}\\frac{1}{M} + \\left [\\frac{P }{v_{c}^{2} t^2(L-v_{c}t)^2} \\right ]* \\frac{1}{M}$$"
   ]
  },
  {
   "cell_type": "markdown",
   "metadata": {},
   "source": [
    "fazendo a substitiuição:\n",
    "$$\\frac{\\mathrm{d}w}{\\mathrm{d} t} = z$$\n",
    "temos que,\n",
    "$$\\frac{\\mathrm{d}^{2}w}{\\mathrm{d} t^{2}} = \\frac{\\mathrm{d}z}{\\mathrm{d} t}$$\n",
    "\n",
    "e logo ficamos com um sistema de duas equações ordinarias de primeira ordem para resolver:\n",
    "\n",
    "\n"
   ]
  },
  {
   "cell_type": "markdown",
   "metadata": {},
   "source": [
    "$$\n",
    "\\left\\{\\begin{matrix}\n",
    "\\frac{\\mathrm{d}w}{\\mathrm{d} t} = z = f(t,w,z) \\\\  \\frac{\\mathrm{d}z}{\\mathrm{d} t} =  \\left [P  - w\\frac{3EIL}{v_{c}^{2} t^2(L-v_{c}t)^2} \\right ]* \\frac{1}{M} = g(t,w,z)\n",
    "\\end{matrix}\\right.\n",
    "$$"
   ]
  },
  {
   "cell_type": "markdown",
   "metadata": {},
   "source": [
    "Para resolver este sistema, podemos utilizar o método de Runge-Kutta de 2ª ordem.\n",
    "Os métodos de Runge-Kutta são caracterizados por três propriedades:\n",
    "\n",
    "1. são de passo um;\n",
    "2. não exigem o cálculo de qualquer derivada de f(x,y); pagam, por isso, o preço de calcular f(x,y) em vários pontos;\n",
    "3. após expandir f(x,y) por Taylor para função de duas variáveis  em torno de ($x_n,y_n$) e agrupar os termos semelhantes, sua expressão coincide com a do método de Taylor da mesma ordem.\n",
    "\n",
    "\n",
    "No método Runge-Kutta de 2ª Ordem, também conhecido como método de Heun's a equação é:\n",
    "$$y_{i+1}=y_{i}+\\frac{h}{2}(k_{1}+k_{2})$$\n",
    "com,\n",
    "$$k_{1}=g(t_{i},y_{i})$$\n",
    "$$k_{2}=g(t_{i}+h,y_{i}+hk_{1})$$\n",
    "equivalente ao sistema:"
   ]
  },
  {
   "cell_type": "markdown",
   "metadata": {},
   "source": [
    "$$\n",
    "\\begin{bmatrix}\n",
    "w_{i+1}\\\\ z_{i+1}\n",
    "\n",
    "\\end{bmatrix} = \\begin{bmatrix}\n",
    "w_{i}\\\\ z_{i}\n",
    "\n",
    "\\end{bmatrix} + \\frac{h}{2} \\begin{pmatrix}\n",
    "\\begin{bmatrix}\n",
    "k_{1,1} = f(t,w,z )\\\\ k_{1,2} = g(t,w,z)\n",
    "\n",
    "\\end{bmatrix} + \\begin{bmatrix}\n",
    "k_{2,1} = f(t_{i+h},w_{i}+h*k_{1},z )\\\\ k_{2,2} = g(t_{i+h},w_{i}+h*k_{1},z )\n",
    "\n",
    "\\end{bmatrix}\n",
    "\\end{pmatrix}\n",
    "$$"
   ]
  },
  {
   "cell_type": "markdown",
   "metadata": {},
   "source": [
    "<img src=\"eq1.GIF\">"
   ]
  },
  {
   "cell_type": "code",
   "execution_count": 7,
   "metadata": {},
   "outputs": [
    {
     "name": "stdout",
     "output_type": "stream",
     "text": [
      "Iteration    Position\n",
      "The position w(t) at instant t 9s is 38.856694130563746\n",
      "The acceleration d2w/dt2 at instant t is -18.425864401542995\n"
     ]
    },
    {
     "data": {
      "text/plain": [
       "[<matplotlib.lines.Line2D at 0x1bae4d48320>]"
      ]
     },
     "execution_count": 7,
     "metadata": {},
     "output_type": "execute_result"
    },
    {
     "data": {
      "image/png": "[encoded data removed]",
      "text/plain": [
       "<Figure size 432x288 with 1 Axes>"
      ]
     },
     "metadata": {
      "needs_background": "light"
     },
     "output_type": "display_data"
    }
   ],
   "source": [
    "from matplotlib import pyplot as plt\n",
    "\n",
    "''' Input data '''\n",
    "## ------------------------------ ##\n",
    "\n",
    "P = 10000 # Weight (in kg)\n",
    "g = 9.81 # gravity m/s2\n",
    "\n",
    "M = P/g\n",
    "\n",
    "vc = 10 # velocity of the mass m/s (horizontal)\n",
    "EI = 2000000 # Young modulus x Inertia\n",
    "\n",
    "L = 100 # width of the beam\n",
    "\n",
    "w0 = 0 # initial position\n",
    "\n",
    "v0 = 0 # initial velocity (m/s)\n",
    "\n",
    "t0 = 0.1 # Initial instant s\n",
    "\n",
    "tf = 9 # final instant s\n",
    "\n",
    "N = 10000# Number of steps\n",
    "\n",
    "h = (tf-t0)/N # step (passo de cálculo - s)\n",
    "\n",
    "## ------------------------------ ##\n",
    "\n",
    "\n",
    "''' Funções Runge-Kutta '''\n",
    "## ------------------------------ ##\n",
    "\n",
    "# 2nd order ODE --> Manipulation in order to attain two frist order ODE\n",
    "\n",
    "'''\n",
    "\n",
    "2 equations:\n",
    "\n",
    "dw/dt = v                   ---> f(t,w,v)\n",
    "dz/dt = (P - (w*3*EI*L)/((vc**2)*(t**2)*(L-vc*t)**2))*(1/M)    ---> g(t,w,v)\n",
    "\n",
    "'''\n",
    "def f(t,w,v):\n",
    "    return v\n",
    "\n",
    "def g(t,w,v):\n",
    "    return (1/M)*(P-w*((3*EI*L)/(vc**2*t**2))*(1/(L-vc*t)**2))\n",
    "\n",
    "\n",
    "\n",
    "i = 1\n",
    "ti = t0\n",
    "wi = w0\n",
    "vi = v0\n",
    "\n",
    "print (\"Iteration    Position\")\n",
    "list_t =  [t0]\n",
    "list_y = [wi]\n",
    "\n",
    "while i < N:\n",
    "    \n",
    "    k1 = g(ti,wi,vi)\n",
    "    k2 = g(ti+h,wi+h*k1,vi)\n",
    "   \n",
    "\n",
    "    Want = wi\n",
    "    wi = wi + h/2*(k1+k2)\n",
    "    ti = ti + h\n",
    "    vi = (wi-Want)/h\n",
    "\n",
    "    list_t.append(ti)\n",
    "    list_y.append(wi)\n",
    "    i +=1\n",
    "\n",
    "\n",
    "\n",
    "\n",
    "\n",
    "print (\"The position w(t) at instant t \" + str(tf) + 's is ' + str(wi))\n",
    "print ('The acceleration d2w/dt2 at instant t is ' + str(g(tf,wi,vi)))\n",
    "plt.plot(list_t,list_y)\n",
    "\n",
    "\n"
   ]
  },
  {
   "cell_type": "code",
   "execution_count": null,
   "metadata": {},
   "outputs": [],
   "source": []
  }
 ],
 "metadata": {
  "kernelspec": {
   "display_name": "Python 3",
   "language": "python",
   "name": "python3"
  },
  "language_info": {
   "codemirror_mode": {
    "name": "ipython",
    "version": 3
   },
   "file_extension": ".py",
   "mimetype": "text/x-python",
   "name": "python",
   "nbconvert_exporter": "python",
   "pygments_lexer": "ipython3",
   "version": "3.7.0"
  }
 },
 "nbformat": 4,
 "nbformat_minor": 2
}
